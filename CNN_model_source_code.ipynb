{
 "cells": [
  {
   "cell_type": "code",
   "execution_count": 1,
   "id": "c34f6b0c",
   "metadata": {},
   "outputs": [
    {
     "name": "stdout",
     "output_type": "stream",
     "text": [
      "WARNING:tensorflow:From C:\\Anaconda\\Lib\\site-packages\\keras\\src\\losses.py:2976: The name tf.losses.sparse_softmax_cross_entropy is deprecated. Please use tf.compat.v1.losses.sparse_softmax_cross_entropy instead.\n",
      "\n"
     ]
    }
   ],
   "source": [
    "import os\n",
    "import numpy as np\n",
    "import tensorflow as tf\n",
    "from tensorflow.keras.preprocessing.image import ImageDataGenerator\n",
    "from tensorflow.keras.models import Sequential\n",
    "from tensorflow.keras.layers import Conv2D, MaxPooling2D, Flatten, Dense, Dropout\n",
    "from tensorflow.keras.optimizers import Adam\n",
    "from sklearn.model_selection import train_test_split\n",
    "import shutil\n",
    "import matplotlib.pyplot as plt\n",
    "from sklearn.metrics import classification_report, confusion_matrix\n",
    "import seaborn as sns\n",
    "import pandas as pd\n",
    "\n"
   ]
  },
  {
   "cell_type": "code",
   "execution_count": 2,
   "id": "f035b07f",
   "metadata": {},
   "outputs": [],
   "source": [
    "seed_value = 42\n",
    "tf.random.set_seed(seed_value)\n",
    "np.random.seed(seed_value)"
   ]
  },
  {
   "cell_type": "code",
   "execution_count": 3,
   "id": "11176eb5",
   "metadata": {},
   "outputs": [],
   "source": [
    "# Define parameters\n",
    "img_height, img_width = 320, 320\n",
    "batch_size = 32\n",
    "num_classes = 4  # Changes based on number of species\n"
   ]
  },
  {
   "cell_type": "code",
   "execution_count": 4,
   "id": "1f100dd9",
   "metadata": {},
   "outputs": [],
   "source": [
    "#image data generators\n",
    "train_datagen = ImageDataGenerator(\n",
    "    rescale=1./255,\n",
    "    rotation_range=20,\n",
    "    width_shift_range=0.2,\n",
    "    height_shift_range=0.2,\n",
    "    shear_range=0.2,\n",
    "    zoom_range=0.2,\n",
    "    horizontal_flip=True,\n",
    "    fill_mode='nearest'\n",
    ")\n",
    "\n",
    "val_datagen = ImageDataGenerator(rescale=1./255)\n"
   ]
  },
  {
   "cell_type": "code",
   "execution_count": 5,
   "id": "2f7d11e9",
   "metadata": {},
   "outputs": [
    {
     "name": "stdout",
     "output_type": "stream",
     "text": [
      "Angel_fish Folder has 678 images\n",
      "Asian_Arowana Folder has 456 images\n",
      "Cardinal_Tetra Folder has 405 images\n",
      "Clown_Loach Folder has 469 images\n"
     ]
    }
   ],
   "source": [
    "dirs = os.listdir('C:/Users/STEVE KENNETH/Desktop/final project/dataset/t/train')\n",
    "for dir in dirs:\n",
    "    files = list(os.listdir('C:/Users/STEVE KENNETH/Desktop/final project/dataset/t/train/'+dir))\n",
    "    print(dir + ' Folder has ' + str(len(files)) + ' images')"
   ]
  },
  {
   "cell_type": "code",
   "execution_count": 6,
   "id": "db423a9d",
   "metadata": {},
   "outputs": [],
   "source": [
    "base_dir= 'C:/Users/STEVE KENNETH/Desktop/final project/dataset/t/'\n",
    "train_dir = 'C:/Users/STEVE KENNETH/Desktop/final project/dataset/t/train/'\n",
    "val_dir = 'C:/Users/STEVE KENNETH/Desktop/final project/dataset/t/test/'"
   ]
  },
  {
   "cell_type": "code",
   "execution_count": 7,
   "id": "01fc6324",
   "metadata": {},
   "outputs": [
    {
     "name": "stdout",
     "output_type": "stream",
     "text": [
      "Found 1774 images belonging to 4 classes.\n"
     ]
    }
   ],
   "source": [
    "train_generator = train_datagen.flow_from_directory(\n",
    "    train_dir,\n",
    "    target_size=(img_height, img_width),\n",
    "    batch_size=batch_size,\n",
    "    class_mode='categorical'\n",
    ")\n"
   ]
  },
  {
   "cell_type": "code",
   "execution_count": 8,
   "id": "497f554f",
   "metadata": {},
   "outputs": [
    {
     "name": "stdout",
     "output_type": "stream",
     "text": [
      "Found 332 images belonging to 4 classes.\n"
     ]
    }
   ],
   "source": [
    "val_generator = val_datagen.flow_from_directory(\n",
    "    val_dir,\n",
    "    target_size=(img_height, img_width),\n",
    "    batch_size=batch_size,\n",
    "    class_mode='categorical'\n",
    ")\n"
   ]
  },
  {
   "cell_type": "code",
   "execution_count": 9,
   "id": "cd8a6456",
   "metadata": {},
   "outputs": [
    {
     "name": "stdout",
     "output_type": "stream",
     "text": [
      "WARNING:tensorflow:From C:\\Anaconda\\Lib\\site-packages\\keras\\src\\backend.py:873: The name tf.get_default_graph is deprecated. Please use tf.compat.v1.get_default_graph instead.\n",
      "\n",
      "WARNING:tensorflow:From C:\\Anaconda\\Lib\\site-packages\\keras\\src\\layers\\pooling\\max_pooling2d.py:161: The name tf.nn.max_pool is deprecated. Please use tf.nn.max_pool2d instead.\n",
      "\n"
     ]
    }
   ],
   "source": [
    "# Define the CNN model\n",
    "\n",
    "model = Sequential([\n",
    "    Conv2D(32, (3, 3), activation='relu', input_shape=(img_height, img_width, 3)),\n",
    "    MaxPooling2D((2, 2)),\n",
    "    \n",
    "    Conv2D(64, (3, 3), activation='relu'),\n",
    "    MaxPooling2D((2, 2)),\n",
    "    \n",
    "    Conv2D(128, (3, 3), activation='relu'),\n",
    "    MaxPooling2D((2, 2)),\n",
    "    \n",
    "    Conv2D(128, (3, 3), activation='relu'),\n",
    "    MaxPooling2D((2, 2)),\n",
    "    \n",
    "    Flatten(),  # Converts 3D feature maps to 1D feature vectors\n",
    "    Dense(512, activation='relu'),  # Fully connected layer\n",
    "    Dropout(0.5),  # Dropout for regularization\n",
    "    Dense(num_classes, activation='softmax')  # Output layer with softmax for classification\n",
    "])\n",
    "\n"
   ]
  },
  {
   "cell_type": "code",
   "execution_count": 10,
   "id": "9d2edd9e",
   "metadata": {},
   "outputs": [
    {
     "name": "stdout",
     "output_type": "stream",
     "text": [
      "WARNING:tensorflow:From C:\\Anaconda\\Lib\\site-packages\\keras\\src\\optimizers\\__init__.py:309: The name tf.train.Optimizer is deprecated. Please use tf.compat.v1.train.Optimizer instead.\n",
      "\n"
     ]
    }
   ],
   "source": [
    "# Compile the model\n",
    "model.compile(optimizer='adam',\n",
    "              loss='categorical_crossentropy',\n",
    "              metrics=['accuracy'])\n"
   ]
  },
  {
   "cell_type": "code",
   "execution_count": 21,
   "id": "371d819d",
   "metadata": {},
   "outputs": [
    {
     "name": "stderr",
     "output_type": "stream",
     "text": [
      "C:\\Anaconda\\Lib\\site-packages\\PIL\\Image.py:996: UserWarning: Palette images with Transparency expressed in bytes should be converted to RGBA images\n",
      "  warnings.warn(\n"
     ]
    },
    {
     "name": "stdout",
     "output_type": "stream",
     "text": [
      "Epoch 1/33\n",
      "WARNING:tensorflow:From C:\\Anaconda\\Lib\\site-packages\\keras\\src\\utils\\tf_utils.py:492: The name tf.ragged.RaggedTensorValue is deprecated. Please use tf.compat.v1.ragged.RaggedTensorValue instead.\n",
      "\n",
      "WARNING:tensorflow:From C:\\Anaconda\\Lib\\site-packages\\keras\\src\\engine\\base_layer_utils.py:384: The name tf.executing_eagerly_outside_functions is deprecated. Please use tf.compat.v1.executing_eagerly_outside_functions instead.\n",
      "\n",
      "56/56 [==============================] - 102s 2s/step - loss: 1.3693 - accuracy: 0.3760 - val_loss: 1.1173 - val_accuracy: 0.5783\n",
      "Epoch 2/33\n",
      "56/56 [==============================] - 93s 2s/step - loss: 1.0441 - accuracy: 0.5981 - val_loss: 0.7965 - val_accuracy: 0.7259\n",
      "Epoch 3/33\n",
      "56/56 [==============================] - 94s 2s/step - loss: 0.8227 - accuracy: 0.6838 - val_loss: 0.6398 - val_accuracy: 0.7771\n",
      "Epoch 4/33\n",
      "56/56 [==============================] - 93s 2s/step - loss: 0.6622 - accuracy: 0.7525 - val_loss: 0.5438 - val_accuracy: 0.8163\n",
      "Epoch 5/33\n",
      "56/56 [==============================] - 93s 2s/step - loss: 0.5692 - accuracy: 0.7813 - val_loss: 0.3874 - val_accuracy: 0.8584\n",
      "Epoch 6/33\n",
      "56/56 [==============================] - 92s 2s/step - loss: 0.4882 - accuracy: 0.8269 - val_loss: 0.3728 - val_accuracy: 0.8614\n",
      "Epoch 7/33\n",
      "56/56 [==============================] - 93s 2s/step - loss: 0.3925 - accuracy: 0.8512 - val_loss: 0.3710 - val_accuracy: 0.8825\n",
      "Epoch 8/33\n",
      "56/56 [==============================] - 93s 2s/step - loss: 0.3922 - accuracy: 0.8602 - val_loss: 0.3497 - val_accuracy: 0.8916\n",
      "Epoch 9/33\n",
      "56/56 [==============================] - 93s 2s/step - loss: 0.3429 - accuracy: 0.8788 - val_loss: 0.2825 - val_accuracy: 0.9096\n",
      "Epoch 10/33\n",
      "56/56 [==============================] - 93s 2s/step - loss: 0.3531 - accuracy: 0.8664 - val_loss: 0.2998 - val_accuracy: 0.8735\n",
      "Epoch 11/33\n",
      "56/56 [==============================] - 94s 2s/step - loss: 0.3022 - accuracy: 0.8923 - val_loss: 0.3398 - val_accuracy: 0.8705\n",
      "Epoch 12/33\n",
      "56/56 [==============================] - 93s 2s/step - loss: 0.3037 - accuracy: 0.8884 - val_loss: 0.2208 - val_accuracy: 0.9157\n",
      "Epoch 13/33\n",
      "56/56 [==============================] - 93s 2s/step - loss: 0.2734 - accuracy: 0.8985 - val_loss: 0.2377 - val_accuracy: 0.9066\n",
      "Epoch 14/33\n",
      "56/56 [==============================] - 93s 2s/step - loss: 0.2555 - accuracy: 0.9070 - val_loss: 0.2408 - val_accuracy: 0.9307\n",
      "Epoch 15/33\n",
      "56/56 [==============================] - 93s 2s/step - loss: 0.2551 - accuracy: 0.9064 - val_loss: 0.2336 - val_accuracy: 0.9217\n",
      "Epoch 16/33\n",
      "56/56 [==============================] - 93s 2s/step - loss: 0.2277 - accuracy: 0.9092 - val_loss: 0.2556 - val_accuracy: 0.9398\n",
      "Epoch 17/33\n",
      "56/56 [==============================] - 94s 2s/step - loss: 0.2324 - accuracy: 0.9126 - val_loss: 0.1766 - val_accuracy: 0.9337\n",
      "Epoch 18/33\n",
      "56/56 [==============================] - 93s 2s/step - loss: 0.2030 - accuracy: 0.9239 - val_loss: 0.2519 - val_accuracy: 0.9337\n",
      "Epoch 19/33\n",
      "56/56 [==============================] - 93s 2s/step - loss: 0.2644 - accuracy: 0.8997 - val_loss: 0.2829 - val_accuracy: 0.9096\n",
      "Epoch 20/33\n",
      "56/56 [==============================] - 93s 2s/step - loss: 0.2220 - accuracy: 0.9188 - val_loss: 0.1832 - val_accuracy: 0.9458\n",
      "Epoch 21/33\n",
      "56/56 [==============================] - 93s 2s/step - loss: 0.2036 - accuracy: 0.9346 - val_loss: 0.2907 - val_accuracy: 0.8976\n",
      "Epoch 22/33\n",
      "56/56 [==============================] - 93s 2s/step - loss: 0.1916 - accuracy: 0.9312 - val_loss: 0.2128 - val_accuracy: 0.9398\n",
      "Epoch 23/33\n",
      "56/56 [==============================] - 94s 2s/step - loss: 0.1603 - accuracy: 0.9386 - val_loss: 0.2196 - val_accuracy: 0.9277\n",
      "Epoch 24/33\n",
      "56/56 [==============================] - 94s 2s/step - loss: 0.2333 - accuracy: 0.9200 - val_loss: 0.1895 - val_accuracy: 0.9367\n",
      "Epoch 25/33\n",
      "56/56 [==============================] - 93s 2s/step - loss: 0.2213 - accuracy: 0.9245 - val_loss: 0.2054 - val_accuracy: 0.9428\n",
      "Epoch 26/33\n",
      "56/56 [==============================] - 93s 2s/step - loss: 0.1700 - accuracy: 0.9335 - val_loss: 0.2447 - val_accuracy: 0.9307\n",
      "Epoch 27/33\n",
      "56/56 [==============================] - 93s 2s/step - loss: 0.1958 - accuracy: 0.9369 - val_loss: 0.2179 - val_accuracy: 0.9518\n",
      "Epoch 28/33\n",
      "56/56 [==============================] - 93s 2s/step - loss: 0.1593 - accuracy: 0.9369 - val_loss: 0.2373 - val_accuracy: 0.9428\n",
      "Epoch 29/33\n",
      "56/56 [==============================] - 94s 2s/step - loss: 0.1720 - accuracy: 0.9386 - val_loss: 0.1388 - val_accuracy: 0.9639\n",
      "Epoch 30/33\n",
      "56/56 [==============================] - 93s 2s/step - loss: 0.1662 - accuracy: 0.9386 - val_loss: 0.1400 - val_accuracy: 0.9518\n",
      "Epoch 31/33\n",
      "56/56 [==============================] - 93s 2s/step - loss: 0.1298 - accuracy: 0.9515 - val_loss: 0.2034 - val_accuracy: 0.9367\n",
      "Epoch 32/33\n",
      "56/56 [==============================] - 93s 2s/step - loss: 0.1285 - accuracy: 0.9532 - val_loss: 0.1733 - val_accuracy: 0.9578\n",
      "Epoch 33/33\n",
      "56/56 [==============================] - 93s 2s/step - loss: 0.1244 - accuracy: 0.9504 - val_loss: 0.4067 - val_accuracy: 0.9217\n"
     ]
    }
   ],
   "source": [
    "# Train the model\n",
    "history = model.fit(\n",
    "    train_generator,\n",
    "    epochs=33,\n",
    "    validation_data=val_generator\n",
    ")\n"
   ]
  },
  {
   "cell_type": "code",
   "execution_count": 23,
   "id": "99cc7681",
   "metadata": {},
   "outputs": [],
   "source": [
    "def classify_images(image_path):\n",
    "    input_image = tf.keras.utils.load_img(image_path, target_size=(320,320 ))\n",
    "    input_image_array = tf.keras.utils.img_to_array(input_image)\n",
    "    input_image_exp_dim = tf.expand_dims(input_image_array,0)\n",
    "\n",
    "    predictions = model.predict(input_image_exp_dim)\n",
    "    result = tf.nn.softmax(predictions[0])\n",
    "    outcome = 'The Image belongs to ' + class_names[np.argmax(result)] + ' with a score of '+ str(np.max(result)*100)\n",
    "    return outcome"
   ]
  },
  {
   "cell_type": "code",
   "execution_count": 17,
   "id": "5081ec64",
   "metadata": {},
   "outputs": [],
   "source": [
    "class_names = list(train_generator.class_indices.keys())"
   ]
  },
  {
   "cell_type": "code",
   "execution_count": 18,
   "id": "20a67447",
   "metadata": {},
   "outputs": [
    {
     "data": {
      "text/plain": [
       "['Angel_fish', 'Asian_Arowana', 'Cardinal_Tetra', 'Clown_Loach']"
      ]
     },
     "execution_count": 18,
     "metadata": {},
     "output_type": "execute_result"
    }
   ],
   "source": [
    "class_names"
   ]
  },
  {
   "cell_type": "code",
   "execution_count": 18,
   "id": "1c028e0b",
   "metadata": {},
   "outputs": [
    {
     "name": "stdout",
     "output_type": "stream",
     "text": [
      "1/1 [==============================] - 0s 47ms/step\n"
     ]
    },
    {
     "data": {
      "text/plain": [
       "'The Image belongs to Clown_Loach with a score of 47.536686062812805'"
      ]
     },
     "execution_count": 18,
     "metadata": {},
     "output_type": "execute_result"
    }
   ],
   "source": [
    "classify_images('C:/Users/STEVE KENNETH/Desktop/final project/dataset/check/3.png')"
   ]
  },
  {
   "cell_type": "code",
   "execution_count": 19,
   "id": "45eeede0",
   "metadata": {},
   "outputs": [],
   "source": [
    "model.save('C:/Users/STEVE KENNETH/Desktop/final project/dataset/check/cnn_model_final_2.h5')"
   ]
  },
  {
   "cell_type": "code",
   "execution_count": 12,
   "id": "ec3786d1",
   "metadata": {},
   "outputs": [],
   "source": [
    "from tensorflow.keras.models import load_model\n"
   ]
  },
  {
   "cell_type": "code",
   "execution_count": 13,
   "id": "8f0f0ad1",
   "metadata": {},
   "outputs": [],
   "source": [
    "trained_model = load_model('C:/Users/STEVE KENNETH/Desktop/final project/dataset/check/cnn_model_final_2.h5')"
   ]
  },
  {
   "cell_type": "code",
   "execution_count": 14,
   "id": "01b36845",
   "metadata": {},
   "outputs": [],
   "source": [
    "def classify_images(image_path):\n",
    "    input_image = tf.keras.utils.load_img(image_path, target_size=(320,320 ))\n",
    "    input_image_array = tf.keras.utils.img_to_array(input_image)\n",
    "    input_image_exp_dim = tf.expand_dims(input_image_array,0)\n",
    "\n",
    "    predictions = trained_model.predict(input_image_exp_dim)\n",
    "    result = tf.nn.softmax(predictions[0])\n",
    "    outcome = 'The Image belongs to ' + class_names[np.argmax(result)] + ' with a score of '+ str(np.max(result)*100)\n",
    "    return outcome"
   ]
  },
  {
   "cell_type": "code",
   "execution_count": 19,
   "id": "ed04ee9a",
   "metadata": {},
   "outputs": [
    {
     "name": "stdout",
     "output_type": "stream",
     "text": [
      "1/1 [==============================] - 0s 109ms/step\n"
     ]
    },
    {
     "data": {
      "text/plain": [
       "'The Image belongs to Angel_fish with a score of 47.47942090034485'"
      ]
     },
     "execution_count": 19,
     "metadata": {},
     "output_type": "execute_result"
    }
   ],
   "source": [
    "classify_images('C:/Users/STEVE KENNETH/Desktop/final project/dataset/check/2.jpg')"
   ]
  },
  {
   "cell_type": "code",
   "execution_count": 24,
   "id": "c651007d",
   "metadata": {},
   "outputs": [
    {
     "data": {
      "image/png": "[encoded data removed]",
      "text/plain": [
       "<Figure size 640x480 with 1 Axes>"
      ]
     },
     "metadata": {},
     "output_type": "display_data"
    },
    {
     "data": {
      "image/png": "[encoded data removed]",
      "text/plain": [
       "<Figure size 640x480 with 1 Axes>"
      ]
     },
     "metadata": {},
     "output_type": "display_data"
    },
    {
     "name": "stdout",
     "output_type": "stream",
     "text": [
      "11/11 [==============================] - 9s 790ms/step - loss: 0.4067 - accuracy: 0.9217\n",
      "Validation Loss: 0.4066905677318573\n",
      "Validation Accuracy: 0.9216867685317993\n"
     ]
    }
   ],
   "source": [
    "#Plot Training Accuracy and Loss\n",
    "def plot_training_history(history):\n",
    "    # Plotting accuracy\n",
    "    plt.plot(history.history['accuracy'], label='train accuracy')\n",
    "    plt.plot(history.history['val_accuracy'], label='val accuracy')\n",
    "    plt.title('Model Accuracy')\n",
    "    plt.ylabel('Accuracy')\n",
    "    plt.xlabel('Epoch')\n",
    "    plt.legend(loc='upper left')\n",
    "    plt.show()\n",
    "\n",
    "    # Plotting loss\n",
    "    plt.plot(history.history['loss'], label='train loss')\n",
    "    plt.plot(history.history['val_loss'], label='val loss')\n",
    "    plt.title('Model Loss')\n",
    "    plt.ylabel('Loss')\n",
    "    plt.xlabel('Epoch')\n",
    "    plt.legend(loc='upper left')\n",
    "    plt.show()\n",
    "\n",
    "# Call the function to plot training history\n",
    "plot_training_history(history)\n",
    "\n",
    "# Step 2: Evaluate Model on Validation Set\n",
    "def evaluate_model_on_validation_set(model, val_generator):\n",
    "    val_loss, val_accuracy = model.evaluate(val_generator, verbose=1)\n",
    "    print(f'Validation Loss: {val_loss}')\n",
    "    print(f'Validation Accuracy: {val_accuracy}')\n",
    "    return val_loss, val_accuracy\n"
   ]
  },
  {
   "cell_type": "code",
   "execution_count": null,
   "id": "8fe3b64e",
   "metadata": {},
   "outputs": [],
   "source": []
  }
 ],
 "metadata": {
  "kernelspec": {
   "display_name": "Python 3 (ipykernel)",
   "language": "python",
   "name": "python3"
  },
  "language_info": {
   "codemirror_mode": {
    "name": "ipython",
    "version": 3
   },
   "file_extension": ".py",
   "mimetype": "text/x-python",
   "name": "python",
   "nbconvert_exporter": "python",
   "pygments_lexer": "ipython3",
   "version": "3.11.5"
  }
 },
 "nbformat": 4,
 "nbformat_minor": 5
}
